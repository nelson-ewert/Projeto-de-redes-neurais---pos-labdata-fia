{
  "nbformat": 4,
  "nbformat_minor": 0,
  "metadata": {
    "colab": {
      "provenance": []
    },
    "kernelspec": {
      "name": "python3",
      "display_name": "Python 3"
    },
    "language_info": {
      "name": "python"
    }
  },
  "cells": [
    {
      "cell_type": "markdown",
      "source": [
        "##Import Bibliotecas"
      ],
      "metadata": {
        "id": "CxToOgF4heAc"
      }
    },
    {
      "cell_type": "code",
      "source": [
        "from keras_preprocessing import sequence\n",
        "from keras.models import Sequential\n",
        "from keras.layers import LSTM, Dense, Embedding, Conv1D, MaxPool1D, Flatten\n",
        "from keras.utils import to_categorical #transforma o rating pra categorizar entre 1 e 5\n",
        "import pandas as pd\n",
        "import numpy as np\n",
        "from sklearn.feature_extraction.text import TfidfVectorizer\n",
        "from sklearn.model_selection import train_test_split\n",
        "\n",
        "import nltk\n",
        "from nltk.corpus import stopwords\n",
        "from nltk.stem import WordNetLemmatizer\n",
        "import string\n",
        "import re"
      ],
      "metadata": {
        "id": "PDSkbIKwiR2K"
      },
      "execution_count": null,
      "outputs": []
    },
    {
      "cell_type": "code",
      "source": [
        "nltk.download('wordnet')\n",
        "nltk.download('stopwords')\n",
        "nltk.download('omw-1.4')"
      ],
      "metadata": {
        "id": "rKTNI1VJtxnf",
        "colab": {
          "base_uri": "https://localhost:8080/"
        },
        "outputId": "61030f21-6d7b-478d-bba0-629e0e55883a"
      },
      "execution_count": null,
      "outputs": [
        {
          "output_type": "stream",
          "name": "stderr",
          "text": [
            "[nltk_data] Downloading package wordnet to /root/nltk_data...\n",
            "[nltk_data] Downloading package stopwords to /root/nltk_data...\n",
            "[nltk_data]   Unzipping corpora/stopwords.zip.\n",
            "[nltk_data] Downloading package omw-1.4 to /root/nltk_data...\n"
          ]
        },
        {
          "output_type": "execute_result",
          "data": {
            "text/plain": [
              "True"
            ]
          },
          "metadata": {},
          "execution_count": 2
        }
      ]
    },
    {
      "cell_type": "markdown",
      "source": [
        "##Import do Dataset"
      ],
      "metadata": {
        "id": "R7ysc-yOh99e"
      }
    },
    {
      "cell_type": "code",
      "source": [
        "from google.colab import drive\n",
        "drive.mount('/content/drive')"
      ],
      "metadata": {
        "id": "OFD3dQtijNXR",
        "colab": {
          "base_uri": "https://localhost:8080/"
        },
        "outputId": "61172e85-fcac-41eb-d2a6-85086c2a50a2"
      },
      "execution_count": null,
      "outputs": [
        {
          "output_type": "stream",
          "name": "stdout",
          "text": [
            "Mounted at /content/drive\n"
          ]
        }
      ]
    },
    {
      "cell_type": "code",
      "source": [
        "df = pd.read_csv(\"reviews.csv\")"
      ],
      "metadata": {
        "id": "jkcS3ce-jdy1"
      },
      "execution_count": null,
      "outputs": []
    },
    {
      "cell_type": "code",
      "source": [
        "df.info()"
      ],
      "metadata": {
        "colab": {
          "base_uri": "https://localhost:8080/"
        },
        "id": "09yfzIl4qpHv",
        "outputId": "7e9d78b5-dc62-4abf-f30f-76447fc2c4aa"
      },
      "execution_count": null,
      "outputs": [
        {
          "output_type": "stream",
          "name": "stdout",
          "text": [
            "<class 'pandas.core.frame.DataFrame'>\n",
            "RangeIndex: 6209 entries, 0 to 6208\n",
            "Data columns (total 5 columns):\n",
            " #   Column          Non-Null Count  Dtype  \n",
            "---  ------          --------------  -----  \n",
            " 0   Time_submitted  6209 non-null   object \n",
            " 1   Review          6209 non-null   object \n",
            " 2   Rating          6208 non-null   float64\n",
            " 3   Total_thumbsup  6208 non-null   float64\n",
            " 4   Reply           13 non-null     object \n",
            "dtypes: float64(2), object(3)\n",
            "memory usage: 242.7+ KB\n"
          ]
        }
      ]
    },
    {
      "cell_type": "code",
      "source": [
        "df.dropna(axis=0, inplace=True, subset=[\"Rating\"])"
      ],
      "metadata": {
        "id": "8wGL39uayQao"
      },
      "execution_count": null,
      "outputs": []
    },
    {
      "cell_type": "code",
      "source": [
        "df.info()"
      ],
      "metadata": {
        "colab": {
          "base_uri": "https://localhost:8080/"
        },
        "id": "J6Wy86v2zI_u",
        "outputId": "c28f4ff1-aa3c-430c-ab74-5a48b1b09c48"
      },
      "execution_count": null,
      "outputs": [
        {
          "output_type": "stream",
          "name": "stdout",
          "text": [
            "<class 'pandas.core.frame.DataFrame'>\n",
            "Int64Index: 6208 entries, 0 to 6207\n",
            "Data columns (total 5 columns):\n",
            " #   Column          Non-Null Count  Dtype  \n",
            "---  ------          --------------  -----  \n",
            " 0   Time_submitted  6208 non-null   object \n",
            " 1   Review          6208 non-null   object \n",
            " 2   Rating          6208 non-null   float64\n",
            " 3   Total_thumbsup  6208 non-null   float64\n",
            " 4   Reply           13 non-null     object \n",
            "dtypes: float64(2), object(3)\n",
            "memory usage: 291.0+ KB\n"
          ]
        }
      ]
    },
    {
      "cell_type": "markdown",
      "source": [
        "##Funções"
      ],
      "metadata": {
        "id": "TfbWKPuqkfIr"
      }
    },
    {
      "cell_type": "code",
      "source": [
        "def text_process(text):\n",
        "    '''\n",
        "    Takes in a string of text, then performs the following:\n",
        "    1. Remove all punctuation\n",
        "    2. Remove all stopwords\n",
        "    3. Return the cleaned text as a list of words\n",
        "    4. Remove words\n",
        "    '''\n",
        "    stemmer = WordNetLemmatizer()\n",
        "    nopunc = [char for char in text if char not in string.punctuation]\n",
        "    nopunc = ''.join([i for i in nopunc if not i.isdigit()])\n",
        "    nopunc =  [word.lower() for word in nopunc.split() if word not in stopwords.words('english')]\n",
        "    nopunc = [stemmer.lemmatize(word,pos = \"v\") for word in nopunc]\n",
        "    return [stemmer.lemmatize(word) for word in nopunc]\n",
        "\n",
        "def remove_emoji(string):\n",
        "  emoji_pattern = re.compile(\"[\"\n",
        "          u\"\\U0001F600-\\U0001F64F\"  # emoticons\n",
        "          u\"\\U0001F300-\\U0001F5FF\"  # symbols & pictographs\n",
        "          u\"\\U0001F680-\\U0001F6FF\"  # transport & map symbols\n",
        "          u\"\\U0001F1E0-\\U0001F1FF\"  # flags (iOS)\n",
        "                            \"]+\", flags=re.UNICODE)\n",
        "  return emoji_pattern.sub(r'', string)\n",
        "\n",
        "def frase_para_id(frase):\n",
        "  output = []\n",
        "  for palavra in frase:\n",
        "    output.append(dicionario.loc[palavra].id)\n",
        "  return output"
      ],
      "metadata": {
        "id": "d0IOFLWTkjzJ"
      },
      "execution_count": null,
      "outputs": []
    },
    {
      "cell_type": "markdown",
      "source": [
        "## Preparação dos dados"
      ],
      "metadata": {
        "id": "XyogmNsL83jF"
      }
    },
    {
      "cell_type": "code",
      "source": [
        "# criando a coluna com o review transformado em lista e com texto tratado\n",
        "\n",
        "#df['Review_treated'] = df['Review'].apply(lambda x: remove_emoji(x))\n",
        "df['Review_treated'] = df['Review'].apply(lambda x: np.array(text_process(x)))"
      ],
      "metadata": {
        "id": "_qI73oLKqh8A"
      },
      "execution_count": null,
      "outputs": []
    },
    {
      "cell_type": "code",
      "source": [
        "# transformando o rating em binário (0 se menor ou igual a 3, ou 1 se maior que 3)\n",
        "\n",
        "Rating_binary =[]\n",
        "for rating in df.Rating:\n",
        "  if rating < 4:\n",
        "    Rating_binary.append(0)\n",
        "  else:\n",
        "    Rating_binary.append(1)\n",
        "\n",
        "df['Rating_binary'] = Rating_binary"
      ],
      "metadata": {
        "id": "cyAKCMNt7VjB"
      },
      "execution_count": null,
      "outputs": []
    },
    {
      "cell_type": "code",
      "source": [
        "#obtenção do dicionário de palavras\n",
        "\n",
        "lista_unica = []\n",
        "\n",
        "for frase in df.Review_treated.values:\n",
        "  for palavra in frase:\n",
        "    lista_unica.append(palavra)\n",
        "\n",
        "dicionario = pd.DataFrame(np.unique(np.array(lista_unica), return_counts=True)).T\n",
        "dicionario.rename(columns={0:\"word\", 1:\"frequency\"}, inplace=True)"
      ],
      "metadata": {
        "id": "MDknQXx56n86"
      },
      "execution_count": null,
      "outputs": []
    },
    {
      "cell_type": "code",
      "source": [
        "num_words = 5000 #quantidade de palavras que o dicionário vai conter. A partir de n+1, todas são tratadas como a mesma (no caso, 5001)\n",
        "\n",
        "dicionario = dicionario.sort_values(by=\"frequency\", ascending=False).reset_index().drop(\"index\", axis=1)\n",
        "\n",
        "dicionario['id'] = dicionario.index\n",
        "\n",
        "dicionario.iloc[num_words:][\"id\"] = num_words+1"
      ],
      "metadata": {
        "colab": {
          "base_uri": "https://localhost:8080/"
        },
        "id": "eJWiIxxP-aaD",
        "outputId": "d54249c3-b41d-4b07-9077-83c515461dd4"
      },
      "execution_count": null,
      "outputs": [
        {
          "output_type": "stream",
          "name": "stderr",
          "text": [
            "<ipython-input-24-75f8924e821c>:7: SettingWithCopyWarning: \n",
            "A value is trying to be set on a copy of a slice from a DataFrame.\n",
            "Try using .loc[row_indexer,col_indexer] = value instead\n",
            "\n",
            "See the caveats in the documentation: https://pandas.pydata.org/pandas-docs/stable/user_guide/indexing.html#returning-a-view-versus-a-copy\n",
            "  dicionario.iloc[num_words:][\"id\"] = num_words+1\n"
          ]
        }
      ]
    },
    {
      "cell_type": "code",
      "source": [
        "dicionario.index = dicionario.word\n",
        "dicionario.drop('word', axis=1)"
      ],
      "metadata": {
        "colab": {
          "base_uri": "https://localhost:8080/",
          "height": 455
        },
        "id": "RaoKbfzLbcUm",
        "outputId": "4f286447-1e58-49a0-fa22-d87af7f71b7e"
      },
      "execution_count": null,
      "outputs": [
        {
          "output_type": "execute_result",
          "data": {
            "text/plain": [
              "         frequency    id\n",
              "word                    \n",
              "i            60044     0\n",
              "app          35434     1\n",
              "song         32828     2\n",
              "music        25582     3\n",
              "play         20783     4\n",
              "...            ...   ...\n",
              "onplease         1  5001\n",
              "onpoint          1  5001\n",
              "onpun            1  5001\n",
              "onr              1  5001\n",
              "🫶🏽               1  5001\n",
              "\n",
              "[27063 rows x 2 columns]"
            ],
            "text/html": [
              "\n",
              "  <div id=\"df-91fbf304-673a-4823-b2a9-1ce5e78c80dd\">\n",
              "    <div class=\"colab-df-container\">\n",
              "      <div>\n",
              "<style scoped>\n",
              "    .dataframe tbody tr th:only-of-type {\n",
              "        vertical-align: middle;\n",
              "    }\n",
              "\n",
              "    .dataframe tbody tr th {\n",
              "        vertical-align: top;\n",
              "    }\n",
              "\n",
              "    .dataframe thead th {\n",
              "        text-align: right;\n",
              "    }\n",
              "</style>\n",
              "<table border=\"1\" class=\"dataframe\">\n",
              "  <thead>\n",
              "    <tr style=\"text-align: right;\">\n",
              "      <th></th>\n",
              "      <th>frequency</th>\n",
              "      <th>id</th>\n",
              "    </tr>\n",
              "    <tr>\n",
              "      <th>word</th>\n",
              "      <th></th>\n",
              "      <th></th>\n",
              "    </tr>\n",
              "  </thead>\n",
              "  <tbody>\n",
              "    <tr>\n",
              "      <th>i</th>\n",
              "      <td>60044</td>\n",
              "      <td>0</td>\n",
              "    </tr>\n",
              "    <tr>\n",
              "      <th>app</th>\n",
              "      <td>35434</td>\n",
              "      <td>1</td>\n",
              "    </tr>\n",
              "    <tr>\n",
              "      <th>song</th>\n",
              "      <td>32828</td>\n",
              "      <td>2</td>\n",
              "    </tr>\n",
              "    <tr>\n",
              "      <th>music</th>\n",
              "      <td>25582</td>\n",
              "      <td>3</td>\n",
              "    </tr>\n",
              "    <tr>\n",
              "      <th>play</th>\n",
              "      <td>20783</td>\n",
              "      <td>4</td>\n",
              "    </tr>\n",
              "    <tr>\n",
              "      <th>...</th>\n",
              "      <td>...</td>\n",
              "      <td>...</td>\n",
              "    </tr>\n",
              "    <tr>\n",
              "      <th>onplease</th>\n",
              "      <td>1</td>\n",
              "      <td>5001</td>\n",
              "    </tr>\n",
              "    <tr>\n",
              "      <th>onpoint</th>\n",
              "      <td>1</td>\n",
              "      <td>5001</td>\n",
              "    </tr>\n",
              "    <tr>\n",
              "      <th>onpun</th>\n",
              "      <td>1</td>\n",
              "      <td>5001</td>\n",
              "    </tr>\n",
              "    <tr>\n",
              "      <th>onr</th>\n",
              "      <td>1</td>\n",
              "      <td>5001</td>\n",
              "    </tr>\n",
              "    <tr>\n",
              "      <th>🫶🏽</th>\n",
              "      <td>1</td>\n",
              "      <td>5001</td>\n",
              "    </tr>\n",
              "  </tbody>\n",
              "</table>\n",
              "<p>27063 rows × 2 columns</p>\n",
              "</div>\n",
              "      <button class=\"colab-df-convert\" onclick=\"convertToInteractive('df-91fbf304-673a-4823-b2a9-1ce5e78c80dd')\"\n",
              "              title=\"Convert this dataframe to an interactive table.\"\n",
              "              style=\"display:none;\">\n",
              "        \n",
              "  <svg xmlns=\"http://www.w3.org/2000/svg\" height=\"24px\"viewBox=\"0 0 24 24\"\n",
              "       width=\"24px\">\n",
              "    <path d=\"M0 0h24v24H0V0z\" fill=\"none\"/>\n",
              "    <path d=\"M18.56 5.44l.94 2.06.94-2.06 2.06-.94-2.06-.94-.94-2.06-.94 2.06-2.06.94zm-11 1L8.5 8.5l.94-2.06 2.06-.94-2.06-.94L8.5 2.5l-.94 2.06-2.06.94zm10 10l.94 2.06.94-2.06 2.06-.94-2.06-.94-.94-2.06-.94 2.06-2.06.94z\"/><path d=\"M17.41 7.96l-1.37-1.37c-.4-.4-.92-.59-1.43-.59-.52 0-1.04.2-1.43.59L10.3 9.45l-7.72 7.72c-.78.78-.78 2.05 0 2.83L4 21.41c.39.39.9.59 1.41.59.51 0 1.02-.2 1.41-.59l7.78-7.78 2.81-2.81c.8-.78.8-2.07 0-2.86zM5.41 20L4 18.59l7.72-7.72 1.47 1.35L5.41 20z\"/>\n",
              "  </svg>\n",
              "      </button>\n",
              "      \n",
              "  <style>\n",
              "    .colab-df-container {\n",
              "      display:flex;\n",
              "      flex-wrap:wrap;\n",
              "      gap: 12px;\n",
              "    }\n",
              "\n",
              "    .colab-df-convert {\n",
              "      background-color: #E8F0FE;\n",
              "      border: none;\n",
              "      border-radius: 50%;\n",
              "      cursor: pointer;\n",
              "      display: none;\n",
              "      fill: #1967D2;\n",
              "      height: 32px;\n",
              "      padding: 0 0 0 0;\n",
              "      width: 32px;\n",
              "    }\n",
              "\n",
              "    .colab-df-convert:hover {\n",
              "      background-color: #E2EBFA;\n",
              "      box-shadow: 0px 1px 2px rgba(60, 64, 67, 0.3), 0px 1px 3px 1px rgba(60, 64, 67, 0.15);\n",
              "      fill: #174EA6;\n",
              "    }\n",
              "\n",
              "    [theme=dark] .colab-df-convert {\n",
              "      background-color: #3B4455;\n",
              "      fill: #D2E3FC;\n",
              "    }\n",
              "\n",
              "    [theme=dark] .colab-df-convert:hover {\n",
              "      background-color: #434B5C;\n",
              "      box-shadow: 0px 1px 3px 1px rgba(0, 0, 0, 0.15);\n",
              "      filter: drop-shadow(0px 1px 2px rgba(0, 0, 0, 0.3));\n",
              "      fill: #FFFFFF;\n",
              "    }\n",
              "  </style>\n",
              "\n",
              "      <script>\n",
              "        const buttonEl =\n",
              "          document.querySelector('#df-91fbf304-673a-4823-b2a9-1ce5e78c80dd button.colab-df-convert');\n",
              "        buttonEl.style.display =\n",
              "          google.colab.kernel.accessAllowed ? 'block' : 'none';\n",
              "\n",
              "        async function convertToInteractive(key) {\n",
              "          const element = document.querySelector('#df-91fbf304-673a-4823-b2a9-1ce5e78c80dd');\n",
              "          const dataTable =\n",
              "            await google.colab.kernel.invokeFunction('convertToInteractive',\n",
              "                                                     [key], {});\n",
              "          if (!dataTable) return;\n",
              "\n",
              "          const docLinkHtml = 'Like what you see? Visit the ' +\n",
              "            '<a target=\"_blank\" href=https://colab.research.google.com/notebooks/data_table.ipynb>data table notebook</a>'\n",
              "            + ' to learn more about interactive tables.';\n",
              "          element.innerHTML = '';\n",
              "          dataTable['output_type'] = 'display_data';\n",
              "          await google.colab.output.renderOutput(dataTable, element);\n",
              "          const docLink = document.createElement('div');\n",
              "          docLink.innerHTML = docLinkHtml;\n",
              "          element.appendChild(docLink);\n",
              "        }\n",
              "      </script>\n",
              "    </div>\n",
              "  </div>\n",
              "  "
            ]
          },
          "metadata": {},
          "execution_count": 43
        }
      ]
    },
    {
      "cell_type": "code",
      "source": [
        "# transformando o review em sequencia numérica a partir do dicionário\n",
        "\n",
        "df['Review_sequence'] = df['Review_treated'].apply(lambda x: np.array(frase_para_id(x)))"
      ],
      "metadata": {
        "id": "kZ0mjGlt8ouv"
      },
      "execution_count": null,
      "outputs": []
    },
    {
      "cell_type": "code",
      "source": [
        "df"
      ],
      "metadata": {
        "colab": {
          "base_uri": "https://localhost:8080/",
          "height": 693
        },
        "id": "qZX2KJfglIWn",
        "outputId": "655d6585-0ae1-4034-d699-1eaa21cf6d25"
      },
      "execution_count": null,
      "outputs": [
        {
          "output_type": "execute_result",
          "data": {
            "text/plain": [
              "            Time_submitted                                             Review  \\\n",
              "0      2022-07-09 15:00:00  Great music service, the audio is high quality...   \n",
              "1      2022-07-09 14:21:22  Please ignore previous negative rating. This a...   \n",
              "2      2022-07-09 13:27:32  This pop-up \"Get the best Spotify experience o...   \n",
              "3      2022-07-09 13:26:45    Really buggy and terrible to use as of recently   \n",
              "4      2022-07-09 13:20:49  Dear Spotify why do I get songs that I didn't ...   \n",
              "...                    ...                                                ...   \n",
              "61589  2022-01-01 03:01:29  Even though it was communicated that lyrics fe...   \n",
              "61590  2022-01-01 02:13:40  Use to be sooo good back when I had it, and wh...   \n",
              "61591  2022-01-01 01:02:29  This app would be good if not for it taking ov...   \n",
              "61592  2022-01-01 00:49:23  The app is good hard to navigate and won't jus...   \n",
              "61593  2022-01-01 00:19:09  Its good but sometimes it doesnt load the musi...   \n",
              "\n",
              "       Rating  Total_thumbsup Reply  \\\n",
              "0           5               2   NaN   \n",
              "1           5               1   NaN   \n",
              "2           4               0   NaN   \n",
              "3           1               1   NaN   \n",
              "4           1               1   NaN   \n",
              "...       ...             ...   ...   \n",
              "61589       1               6   NaN   \n",
              "61590       1               0   NaN   \n",
              "61591       2              10   NaN   \n",
              "61592       2               1   NaN   \n",
              "61593       4               0   NaN   \n",
              "\n",
              "                                          Review_treated  \\\n",
              "0      [great, music, service, audio, high, quality, ...   \n",
              "1      [please, ignore, previous, negative, rat, this...   \n",
              "2      [this, popup, get, best, spotify, experience, ...   \n",
              "3               [really, buggy, terrible, use, recently]   \n",
              "4      [dear, spotify, i, get, song, i, didnt, put, p...   \n",
              "...                                                  ...   \n",
              "61589  [even, though, communicate, lyric, feature, av...   \n",
              "61590  [use, sooo, good, back, i, i, download, free, ...   \n",
              "61591  [this, app, would, good, take, device, i, star...   \n",
              "61592  [the, app, good, hard, navigate, wont, let, pl...   \n",
              "61593  [it, good, sometimes, doesnt, load, music, pla...   \n",
              "\n",
              "                                         Review_sequence  Rating_binary  \n",
              "0      [17, 3, 75, 215, 490, 111, 1, 79, 7, 45, 894, ...              1  \n",
              "1      [36, 1145, 535, 1034, 330, 41, 1, 315, 17, 0, ...              1  \n",
              "2      [41, 1233, 12, 37, 5, 80, 165, 58, 36, 86, 12,...              1  \n",
              "3                                 [33, 228, 271, 7, 177]              0  \n",
              "4        [1412, 5, 0, 12, 2, 0, 172, 157, 11, 85, 70, 4]              0  \n",
              "...                                                  ...            ...  \n",
              "61589  [21, 167, 2441, 116, 74, 187, 103, 5001, 101, ...              0  \n",
              "61590  [7, 1279, 16, 52, 0, 0, 35, 56, 106, 406, 223,...              0  \n",
              "61591  [41, 1, 44, 16, 114, 145, 0, 66, 5001, 93, 5, ...              0  \n",
              "61592  [18, 1, 16, 309, 539, 69, 86, 4, 2, 202, 4, 11...              0  \n",
              "61593  [9, 16, 89, 43, 166, 3, 4, 8, 189, 2, 27, 65, ...              1  \n",
              "\n",
              "[61594 rows x 8 columns]"
            ],
            "text/html": [
              "\n",
              "  <div id=\"df-89402c64-3772-4a1e-985e-d511534de07c\">\n",
              "    <div class=\"colab-df-container\">\n",
              "      <div>\n",
              "<style scoped>\n",
              "    .dataframe tbody tr th:only-of-type {\n",
              "        vertical-align: middle;\n",
              "    }\n",
              "\n",
              "    .dataframe tbody tr th {\n",
              "        vertical-align: top;\n",
              "    }\n",
              "\n",
              "    .dataframe thead th {\n",
              "        text-align: right;\n",
              "    }\n",
              "</style>\n",
              "<table border=\"1\" class=\"dataframe\">\n",
              "  <thead>\n",
              "    <tr style=\"text-align: right;\">\n",
              "      <th></th>\n",
              "      <th>Time_submitted</th>\n",
              "      <th>Review</th>\n",
              "      <th>Rating</th>\n",
              "      <th>Total_thumbsup</th>\n",
              "      <th>Reply</th>\n",
              "      <th>Review_treated</th>\n",
              "      <th>Review_sequence</th>\n",
              "      <th>Rating_binary</th>\n",
              "    </tr>\n",
              "  </thead>\n",
              "  <tbody>\n",
              "    <tr>\n",
              "      <th>0</th>\n",
              "      <td>2022-07-09 15:00:00</td>\n",
              "      <td>Great music service, the audio is high quality...</td>\n",
              "      <td>5</td>\n",
              "      <td>2</td>\n",
              "      <td>NaN</td>\n",
              "      <td>[great, music, service, audio, high, quality, ...</td>\n",
              "      <td>[17, 3, 75, 215, 490, 111, 1, 79, 7, 45, 894, ...</td>\n",
              "      <td>1</td>\n",
              "    </tr>\n",
              "    <tr>\n",
              "      <th>1</th>\n",
              "      <td>2022-07-09 14:21:22</td>\n",
              "      <td>Please ignore previous negative rating. This a...</td>\n",
              "      <td>5</td>\n",
              "      <td>1</td>\n",
              "      <td>NaN</td>\n",
              "      <td>[please, ignore, previous, negative, rat, this...</td>\n",
              "      <td>[36, 1145, 535, 1034, 330, 41, 1, 315, 17, 0, ...</td>\n",
              "      <td>1</td>\n",
              "    </tr>\n",
              "    <tr>\n",
              "      <th>2</th>\n",
              "      <td>2022-07-09 13:27:32</td>\n",
              "      <td>This pop-up \"Get the best Spotify experience o...</td>\n",
              "      <td>4</td>\n",
              "      <td>0</td>\n",
              "      <td>NaN</td>\n",
              "      <td>[this, popup, get, best, spotify, experience, ...</td>\n",
              "      <td>[41, 1233, 12, 37, 5, 80, 165, 58, 36, 86, 12,...</td>\n",
              "      <td>1</td>\n",
              "    </tr>\n",
              "    <tr>\n",
              "      <th>3</th>\n",
              "      <td>2022-07-09 13:26:45</td>\n",
              "      <td>Really buggy and terrible to use as of recently</td>\n",
              "      <td>1</td>\n",
              "      <td>1</td>\n",
              "      <td>NaN</td>\n",
              "      <td>[really, buggy, terrible, use, recently]</td>\n",
              "      <td>[33, 228, 271, 7, 177]</td>\n",
              "      <td>0</td>\n",
              "    </tr>\n",
              "    <tr>\n",
              "      <th>4</th>\n",
              "      <td>2022-07-09 13:20:49</td>\n",
              "      <td>Dear Spotify why do I get songs that I didn't ...</td>\n",
              "      <td>1</td>\n",
              "      <td>1</td>\n",
              "      <td>NaN</td>\n",
              "      <td>[dear, spotify, i, get, song, i, didnt, put, p...</td>\n",
              "      <td>[1412, 5, 0, 12, 2, 0, 172, 157, 11, 85, 70, 4]</td>\n",
              "      <td>0</td>\n",
              "    </tr>\n",
              "    <tr>\n",
              "      <th>...</th>\n",
              "      <td>...</td>\n",
              "      <td>...</td>\n",
              "      <td>...</td>\n",
              "      <td>...</td>\n",
              "      <td>...</td>\n",
              "      <td>...</td>\n",
              "      <td>...</td>\n",
              "      <td>...</td>\n",
              "    </tr>\n",
              "    <tr>\n",
              "      <th>61589</th>\n",
              "      <td>2022-01-01 03:01:29</td>\n",
              "      <td>Even though it was communicated that lyrics fe...</td>\n",
              "      <td>1</td>\n",
              "      <td>6</td>\n",
              "      <td>NaN</td>\n",
              "      <td>[even, though, communicate, lyric, feature, av...</td>\n",
              "      <td>[21, 167, 2441, 116, 74, 187, 103, 5001, 101, ...</td>\n",
              "      <td>0</td>\n",
              "    </tr>\n",
              "    <tr>\n",
              "      <th>61590</th>\n",
              "      <td>2022-01-01 02:13:40</td>\n",
              "      <td>Use to be sooo good back when I had it, and wh...</td>\n",
              "      <td>1</td>\n",
              "      <td>0</td>\n",
              "      <td>NaN</td>\n",
              "      <td>[use, sooo, good, back, i, i, download, free, ...</td>\n",
              "      <td>[7, 1279, 16, 52, 0, 0, 35, 56, 106, 406, 223,...</td>\n",
              "      <td>0</td>\n",
              "    </tr>\n",
              "    <tr>\n",
              "      <th>61591</th>\n",
              "      <td>2022-01-01 01:02:29</td>\n",
              "      <td>This app would be good if not for it taking ov...</td>\n",
              "      <td>2</td>\n",
              "      <td>10</td>\n",
              "      <td>NaN</td>\n",
              "      <td>[this, app, would, good, take, device, i, star...</td>\n",
              "      <td>[41, 1, 44, 16, 114, 145, 0, 66, 5001, 93, 5, ...</td>\n",
              "      <td>0</td>\n",
              "    </tr>\n",
              "    <tr>\n",
              "      <th>61592</th>\n",
              "      <td>2022-01-01 00:49:23</td>\n",
              "      <td>The app is good hard to navigate and won't jus...</td>\n",
              "      <td>2</td>\n",
              "      <td>1</td>\n",
              "      <td>NaN</td>\n",
              "      <td>[the, app, good, hard, navigate, wont, let, pl...</td>\n",
              "      <td>[18, 1, 16, 309, 539, 69, 86, 4, 2, 202, 4, 11...</td>\n",
              "      <td>0</td>\n",
              "    </tr>\n",
              "    <tr>\n",
              "      <th>61593</th>\n",
              "      <td>2022-01-01 00:19:09</td>\n",
              "      <td>Its good but sometimes it doesnt load the musi...</td>\n",
              "      <td>4</td>\n",
              "      <td>0</td>\n",
              "      <td>NaN</td>\n",
              "      <td>[it, good, sometimes, doesnt, load, music, pla...</td>\n",
              "      <td>[9, 16, 89, 43, 166, 3, 4, 8, 189, 2, 27, 65, ...</td>\n",
              "      <td>1</td>\n",
              "    </tr>\n",
              "  </tbody>\n",
              "</table>\n",
              "<p>61594 rows × 8 columns</p>\n",
              "</div>\n",
              "      <button class=\"colab-df-convert\" onclick=\"convertToInteractive('df-89402c64-3772-4a1e-985e-d511534de07c')\"\n",
              "              title=\"Convert this dataframe to an interactive table.\"\n",
              "              style=\"display:none;\">\n",
              "        \n",
              "  <svg xmlns=\"http://www.w3.org/2000/svg\" height=\"24px\"viewBox=\"0 0 24 24\"\n",
              "       width=\"24px\">\n",
              "    <path d=\"M0 0h24v24H0V0z\" fill=\"none\"/>\n",
              "    <path d=\"M18.56 5.44l.94 2.06.94-2.06 2.06-.94-2.06-.94-.94-2.06-.94 2.06-2.06.94zm-11 1L8.5 8.5l.94-2.06 2.06-.94-2.06-.94L8.5 2.5l-.94 2.06-2.06.94zm10 10l.94 2.06.94-2.06 2.06-.94-2.06-.94-.94-2.06-.94 2.06-2.06.94z\"/><path d=\"M17.41 7.96l-1.37-1.37c-.4-.4-.92-.59-1.43-.59-.52 0-1.04.2-1.43.59L10.3 9.45l-7.72 7.72c-.78.78-.78 2.05 0 2.83L4 21.41c.39.39.9.59 1.41.59.51 0 1.02-.2 1.41-.59l7.78-7.78 2.81-2.81c.8-.78.8-2.07 0-2.86zM5.41 20L4 18.59l7.72-7.72 1.47 1.35L5.41 20z\"/>\n",
              "  </svg>\n",
              "      </button>\n",
              "      \n",
              "  <style>\n",
              "    .colab-df-container {\n",
              "      display:flex;\n",
              "      flex-wrap:wrap;\n",
              "      gap: 12px;\n",
              "    }\n",
              "\n",
              "    .colab-df-convert {\n",
              "      background-color: #E8F0FE;\n",
              "      border: none;\n",
              "      border-radius: 50%;\n",
              "      cursor: pointer;\n",
              "      display: none;\n",
              "      fill: #1967D2;\n",
              "      height: 32px;\n",
              "      padding: 0 0 0 0;\n",
              "      width: 32px;\n",
              "    }\n",
              "\n",
              "    .colab-df-convert:hover {\n",
              "      background-color: #E2EBFA;\n",
              "      box-shadow: 0px 1px 2px rgba(60, 64, 67, 0.3), 0px 1px 3px 1px rgba(60, 64, 67, 0.15);\n",
              "      fill: #174EA6;\n",
              "    }\n",
              "\n",
              "    [theme=dark] .colab-df-convert {\n",
              "      background-color: #3B4455;\n",
              "      fill: #D2E3FC;\n",
              "    }\n",
              "\n",
              "    [theme=dark] .colab-df-convert:hover {\n",
              "      background-color: #434B5C;\n",
              "      box-shadow: 0px 1px 3px 1px rgba(0, 0, 0, 0.15);\n",
              "      filter: drop-shadow(0px 1px 2px rgba(0, 0, 0, 0.3));\n",
              "      fill: #FFFFFF;\n",
              "    }\n",
              "  </style>\n",
              "\n",
              "      <script>\n",
              "        const buttonEl =\n",
              "          document.querySelector('#df-89402c64-3772-4a1e-985e-d511534de07c button.colab-df-convert');\n",
              "        buttonEl.style.display =\n",
              "          google.colab.kernel.accessAllowed ? 'block' : 'none';\n",
              "\n",
              "        async function convertToInteractive(key) {\n",
              "          const element = document.querySelector('#df-89402c64-3772-4a1e-985e-d511534de07c');\n",
              "          const dataTable =\n",
              "            await google.colab.kernel.invokeFunction('convertToInteractive',\n",
              "                                                     [key], {});\n",
              "          if (!dataTable) return;\n",
              "\n",
              "          const docLinkHtml = 'Like what you see? Visit the ' +\n",
              "            '<a target=\"_blank\" href=https://colab.research.google.com/notebooks/data_table.ipynb>data table notebook</a>'\n",
              "            + ' to learn more about interactive tables.';\n",
              "          element.innerHTML = '';\n",
              "          dataTable['output_type'] = 'display_data';\n",
              "          await google.colab.output.renderOutput(dataTable, element);\n",
              "          const docLink = document.createElement('div');\n",
              "          docLink.innerHTML = docLinkHtml;\n",
              "          element.appendChild(docLink);\n",
              "        }\n",
              "      </script>\n",
              "    </div>\n",
              "  </div>\n",
              "  "
            ]
          },
          "metadata": {},
          "execution_count": 82
        }
      ]
    },
    {
      "cell_type": "markdown",
      "source": [
        "## Train test split and padding"
      ],
      "metadata": {
        "id": "fe7H5HH6sVPN"
      }
    },
    {
      "cell_type": "code",
      "source": [
        "x_treino, x_teste, y_treino, y_teste = train_test_split(df[\"Review_sequence\"], df[\"Rating_binary\"], test_size=0.2, random_state=42)"
      ],
      "metadata": {
        "id": "0TlwmkQpgD_D"
      },
      "execution_count": null,
      "outputs": []
    },
    {
      "cell_type": "code",
      "source": [
        "x_treino_pad = sequence.pad_sequences(x_treino, maxlen=500)#, padding='post', truncating='post')\n",
        "x_teste_pad = sequence.pad_sequences(x_teste, maxlen=500)#, padding='post', truncating='post')"
      ],
      "metadata": {
        "id": "QOrHNqeLgb6p"
      },
      "execution_count": null,
      "outputs": []
    },
    {
      "cell_type": "code",
      "source": [
        "y_treino = np.array(y_treino)\n",
        "y_teste = np.array(y_teste)"
      ],
      "metadata": {
        "id": "-nsGNX6ynZ9f"
      },
      "execution_count": null,
      "outputs": []
    },
    {
      "cell_type": "markdown",
      "source": [
        "## Modelo"
      ],
      "metadata": {
        "id": "O6O3zlNormtn"
      }
    },
    {
      "cell_type": "code",
      "source": [
        "modelo = Sequential()\n",
        "modelo.add(Embedding(10000, 50, input_length=500))\n",
        "modelo.add(LSTM(50))\n",
        "modelo.add(Dense(1, activation='sigmoid'))"
      ],
      "metadata": {
        "id": "ypCFefWrlWvZ"
      },
      "execution_count": null,
      "outputs": []
    },
    {
      "cell_type": "code",
      "source": [
        "modelo.summary()"
      ],
      "metadata": {
        "colab": {
          "base_uri": "https://localhost:8080/"
        },
        "id": "UIiymLNBmIQD",
        "outputId": "1f733fbe-0e8a-4340-a375-cb37de890836"
      },
      "execution_count": null,
      "outputs": [
        {
          "output_type": "stream",
          "name": "stdout",
          "text": [
            "Model: \"sequential_4\"\n",
            "_________________________________________________________________\n",
            " Layer (type)                Output Shape              Param #   \n",
            "=================================================================\n",
            " embedding_4 (Embedding)     (None, 500, 50)           250050    \n",
            "                                                                 \n",
            " lstm_4 (LSTM)               (None, 50)                20200     \n",
            "                                                                 \n",
            " dense_4 (Dense)             (None, 1)                 51        \n",
            "                                                                 \n",
            "=================================================================\n",
            "Total params: 270,301\n",
            "Trainable params: 270,301\n",
            "Non-trainable params: 0\n",
            "_________________________________________________________________\n"
          ]
        }
      ]
    },
    {
      "cell_type": "code",
      "source": [
        "modelo.compile(loss='binary_crossentropy', metrics=['accuracy'])\n",
        "modelo.fit(x_treino_pad, y_treino, epochs=10, validation_data=(x_teste_pad, y_teste))"
      ],
      "metadata": {
        "colab": {
          "base_uri": "https://localhost:8080/"
        },
        "id": "f8ZIY0g9mQ8J",
        "outputId": "2c222ad5-58b5-4d28-c6ef-3a8dfd520519"
      },
      "execution_count": null,
      "outputs": [
        {
          "output_type": "stream",
          "name": "stdout",
          "text": [
            "Epoch 1/10\n",
            "1540/1540 [==============================] - 496s 320ms/step - loss: 0.3777 - accuracy: 0.8417 - val_loss: 0.3451 - val_accuracy: 0.8635\n",
            "Epoch 2/10\n",
            "1540/1540 [==============================] - 495s 322ms/step - loss: 0.3201 - accuracy: 0.8708 - val_loss: 0.3234 - val_accuracy: 0.8691\n",
            "Epoch 3/10\n",
            "1540/1540 [==============================] - 479s 311ms/step - loss: 0.3105 - accuracy: 0.8759 - val_loss: 0.3319 - val_accuracy: 0.8680\n",
            "Epoch 4/10\n",
            "1540/1540 [==============================] - 467s 303ms/step - loss: 0.3054 - accuracy: 0.8778 - val_loss: 0.3171 - val_accuracy: 0.8719\n",
            "Epoch 5/10\n",
            "1540/1540 [==============================] - 462s 300ms/step - loss: 0.2955 - accuracy: 0.8817 - val_loss: 0.3162 - val_accuracy: 0.8728\n",
            "Epoch 6/10\n",
            "1540/1540 [==============================] - 470s 305ms/step - loss: 0.2893 - accuracy: 0.8843 - val_loss: 0.3162 - val_accuracy: 0.8643\n",
            "Epoch 7/10\n",
            "1540/1540 [==============================] - 472s 307ms/step - loss: 0.2854 - accuracy: 0.8868 - val_loss: 0.3106 - val_accuracy: 0.8729\n",
            "Epoch 8/10\n",
            "1540/1540 [==============================] - 472s 306ms/step - loss: 0.2882 - accuracy: 0.8860 - val_loss: 0.3141 - val_accuracy: 0.8741\n",
            "Epoch 9/10\n",
            "1540/1540 [==============================] - 471s 306ms/step - loss: 0.2788 - accuracy: 0.8911 - val_loss: 0.3220 - val_accuracy: 0.8700\n",
            "Epoch 10/10\n",
            "1540/1540 [==============================] - 473s 307ms/step - loss: 0.2722 - accuracy: 0.8929 - val_loss: 0.3162 - val_accuracy: 0.8739\n"
          ]
        },
        {
          "output_type": "execute_result",
          "data": {
            "text/plain": [
              "<keras.callbacks.History at 0x7ff2845ddb50>"
            ]
          },
          "metadata": {},
          "execution_count": 97
        }
      ]
    },
    {
      "cell_type": "markdown",
      "source": [
        "## Conclusão\n",
        "\n",
        "O objetivo do trabalho era classificar comentários (reviews) do spotify entre positivos e negativos.\n",
        "Para isso, consideramos negativos os reviews com nota menor ou igual a 3, e positivos os com nota 4 e 5.\n",
        "\n",
        "Usando uma rede neural recorrente, criamos um modelo capaz de realizar essa tarefa com acuracidade próxima de 90% no conjunto de teste, bastante equilibrada com a acuracidade do conjunto de treino."
      ],
      "metadata": {
        "id": "3rsUVP5E6GAD"
      }
    }
  ]
}